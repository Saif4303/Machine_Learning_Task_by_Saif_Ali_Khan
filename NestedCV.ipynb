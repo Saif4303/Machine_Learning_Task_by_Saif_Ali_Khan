{
 "cells": [
  {
   "cell_type": "markdown",
   "id": "0ce50062",
   "metadata": {},
   "source": [
    "# Nested CV"
   ]
  },
  {
   "cell_type": "markdown",
   "id": "1c6a32a2",
   "metadata": {},
   "source": [
    "# Business Case:\n",
    "\n",
    "\n",
    "### Overview:\n",
    "\n",
    "**This dataset contains sales information for various cola brands in Athens, Greece. Each record provides details about the sales of different cola products, including the date of sale, location, product specifications (such as brand, container type, and capacity), and the quantity sold. The dataset captures the nuances of consumer preferences and sales patterns over time, which is critical for understanding market dynamics and making data-driven business decisions.**\n",
    "\n",
    "\n",
    "### Benefits\n",
    "\n",
    "**Increased Revenue: By accurately forecasting demand, the company can ensure that popular products are always in stock, potentially increasing sales.\n",
    "Cost Savings: Improved inventory management can reduce the costs associated with overstock and stockouts.\n",
    "Better Marketing ROI: Insights into consumer preferences and sales trends can lead to more effective marketing and promotional campaigns.\n",
    "Enhanced Customer Satisfaction: By ensuring the availability of preferred products, customer satisfaction can be improved, leading to higher customer loyalty.**\n",
    "\n",
    "\n",
    "### Stakeholders\n",
    "\n",
    "**Sales and Marketing Teams: To understand market trends and customer preferences.\n",
    "Supply Chain and Inventory Managers: To improve inventory management and demand planning.\n",
    "Pricing Analysts: To develop and refine pricing strategies.\n",
    "Executive Management: To make strategic decisions based on comprehensive market and sales data.**"
   ]
  },
  {
   "cell_type": "markdown",
   "id": "deb5e6e4",
   "metadata": {},
   "source": [
    "# Objectives\n",
    "\n",
    "##### 1. Implement the nested time series cross validation strategy for grouped forecasting.\n",
    "    a. User should provide the dataset, time column and the number of folds to generate\n",
    "    b. For the given dataset, we will use **\"day\"** as a single time unit. This means you can split the data at day level\n",
    "    \n",
    "##### 2. Write you code in sci-kit learn format. The class should work on pandas dataframes and a datetime column name.\n",
    "\n",
    "\n",
    "##### 3. Test your code with some samples.\n",
    "\n",
    "\n",
    "##### 4. Build a time series model on the dataset above and evaluate it using your cross validation method. Submit the notebook illustrating the model development.\n",
    "\n",
    "\n",
    "##### 5. Submit the code, test samples and any other recorded observations"
   ]
  },
  {
   "cell_type": "markdown",
   "id": "60b71e5b",
   "metadata": {},
   "source": [
    "# Importing Libraries"
   ]
  },
  {
   "cell_type": "code",
   "execution_count": 1,
   "id": "59cf29af",
   "metadata": {},
   "outputs": [],
   "source": [
    "import pandas as pd\n",
    "import numpy as np\n",
    "from types import GeneratorType\n",
    "from sklearn.model_selection import TimeSeriesSplit\n",
    "from statsmodels.tsa.arima.model import ARIMA\n",
    "from sklearn.metrics import mean_squared_error\n",
    "import warnings\n",
    "warnings.filterwarnings(\"ignore\")"
   ]
  },
  {
   "cell_type": "markdown",
   "id": "4e1374e6",
   "metadata": {},
   "source": [
    "## Loading Dataset"
   ]
  },
  {
   "cell_type": "code",
   "execution_count": 25,
   "id": "ea0d32d4",
   "metadata": {},
   "outputs": [
    {
     "data": {
      "text/html": [
       "<div>\n",
       "<style scoped>\n",
       "    .dataframe tbody tr th:only-of-type {\n",
       "        vertical-align: middle;\n",
       "    }\n",
       "\n",
       "    .dataframe tbody tr th {\n",
       "        vertical-align: top;\n",
       "    }\n",
       "\n",
       "    .dataframe thead th {\n",
       "        text-align: right;\n",
       "    }\n",
       "</style>\n",
       "<table border=\"1\" class=\"dataframe\">\n",
       "  <thead>\n",
       "    <tr style=\"text-align: right;\">\n",
       "      <th></th>\n",
       "      <th>id</th>\n",
       "      <th>date</th>\n",
       "      <th>city</th>\n",
       "      <th>lat</th>\n",
       "      <th>long</th>\n",
       "      <th>pop</th>\n",
       "      <th>shop</th>\n",
       "      <th>brand</th>\n",
       "      <th>container</th>\n",
       "      <th>capacity</th>\n",
       "      <th>price</th>\n",
       "      <th>quantity</th>\n",
       "    </tr>\n",
       "  </thead>\n",
       "  <tbody>\n",
       "    <tr>\n",
       "      <th>0</th>\n",
       "      <td>0.0</td>\n",
       "      <td>31/01/12</td>\n",
       "      <td>Athens</td>\n",
       "      <td>37.97945</td>\n",
       "      <td>23.71622</td>\n",
       "      <td>672130.0</td>\n",
       "      <td>shop_1</td>\n",
       "      <td>kinder-cola</td>\n",
       "      <td>glass</td>\n",
       "      <td>500ml</td>\n",
       "      <td>0.96</td>\n",
       "      <td>13280.0</td>\n",
       "    </tr>\n",
       "    <tr>\n",
       "      <th>1</th>\n",
       "      <td>1.0</td>\n",
       "      <td>31/01/12</td>\n",
       "      <td>Athens</td>\n",
       "      <td>37.97945</td>\n",
       "      <td>23.71622</td>\n",
       "      <td>672130.0</td>\n",
       "      <td>shop_1</td>\n",
       "      <td>kinder-cola</td>\n",
       "      <td>plastic</td>\n",
       "      <td>1.5lt</td>\n",
       "      <td>2.86</td>\n",
       "      <td>6727.0</td>\n",
       "    </tr>\n",
       "    <tr>\n",
       "      <th>2</th>\n",
       "      <td>2.0</td>\n",
       "      <td>31/01/12</td>\n",
       "      <td>Athens</td>\n",
       "      <td>37.97945</td>\n",
       "      <td>23.71622</td>\n",
       "      <td>672130.0</td>\n",
       "      <td>shop_1</td>\n",
       "      <td>kinder-cola</td>\n",
       "      <td>can</td>\n",
       "      <td>330ml</td>\n",
       "      <td>0.87</td>\n",
       "      <td>9848.0</td>\n",
       "    </tr>\n",
       "    <tr>\n",
       "      <th>3</th>\n",
       "      <td>3.0</td>\n",
       "      <td>31/01/12</td>\n",
       "      <td>Athens</td>\n",
       "      <td>37.97945</td>\n",
       "      <td>23.71622</td>\n",
       "      <td>672130.0</td>\n",
       "      <td>shop_1</td>\n",
       "      <td>adult-cola</td>\n",
       "      <td>glass</td>\n",
       "      <td>500ml</td>\n",
       "      <td>1.00</td>\n",
       "      <td>20050.0</td>\n",
       "    </tr>\n",
       "    <tr>\n",
       "      <th>4</th>\n",
       "      <td>4.0</td>\n",
       "      <td>31/01/12</td>\n",
       "      <td>Athens</td>\n",
       "      <td>37.97945</td>\n",
       "      <td>23.71622</td>\n",
       "      <td>672130.0</td>\n",
       "      <td>shop_1</td>\n",
       "      <td>adult-cola</td>\n",
       "      <td>can</td>\n",
       "      <td>330ml</td>\n",
       "      <td>0.39</td>\n",
       "      <td>25696.0</td>\n",
       "    </tr>\n",
       "  </tbody>\n",
       "</table>\n",
       "</div>"
      ],
      "text/plain": [
       "    id      date    city       lat      long       pop    shop        brand  \\\n",
       "0  0.0  31/01/12  Athens  37.97945  23.71622  672130.0  shop_1  kinder-cola   \n",
       "1  1.0  31/01/12  Athens  37.97945  23.71622  672130.0  shop_1  kinder-cola   \n",
       "2  2.0  31/01/12  Athens  37.97945  23.71622  672130.0  shop_1  kinder-cola   \n",
       "3  3.0  31/01/12  Athens  37.97945  23.71622  672130.0  shop_1   adult-cola   \n",
       "4  4.0  31/01/12  Athens  37.97945  23.71622  672130.0  shop_1   adult-cola   \n",
       "\n",
       "  container capacity  price  quantity  \n",
       "0     glass    500ml   0.96   13280.0  \n",
       "1   plastic    1.5lt   2.86    6727.0  \n",
       "2       can    330ml   0.87    9848.0  \n",
       "3     glass    500ml   1.00   20050.0  \n",
       "4       can    330ml   0.39   25696.0  "
      ]
     },
     "execution_count": 25,
     "metadata": {},
     "output_type": "execute_result"
    }
   ],
   "source": [
    "data = pd.read_csv(\"train.csv\")\n",
    "data.head()"
   ]
  },
  {
   "cell_type": "markdown",
   "id": "8c47ed15",
   "metadata": {},
   "source": [
    "# Domain Analysis\n",
    "\n",
    "\n",
    "### Industry Context\n",
    "\n",
    "**The dataset is representative of the beverage industry, specifically focusing on the non-alcoholic carbonated drinks market. This industry is characterized by high competition, varying consumer preferences, and significant impact of marketing and branding efforts. Seasonal trends and promotional activities often influence sales volumes, making demand forecasting and inventory management critical components of the business strategy.**\n",
    "\n",
    "### Key Features and Attributes\n",
    "\n",
    "**Date:** Indicates the day of the sale, essential for time series analysis and understanding temporal sales patterns.\n",
    "\n",
    "**City:** Provides location context.\n",
    "\n",
    "**Latitude and Longitude:** Geographical coordinates of the location.\n",
    "\n",
    "**Population (pop):** Gives an idea of the market size in the area.\n",
    "\n",
    "**Shop:** Identifies the retail outlet.\n",
    "\n",
    "**Brand:** Gives different brands operating in the market.\n",
    "\n",
    "**Container Type:** Indicates the packaging format (e.g., glass, plastic, can).\n",
    "\n",
    "**Capacity:** Specifies the volume of the product, important for understanding product size preferences.\n",
    "\n",
    "**Price:** The selling price of the product, a key factor in sales volume and revenue analysis.\n",
    "\n",
    "**Quantity:** The number of units sold, the primary measure of sales performance. This is our **Target** variable.\n",
    "\n"
   ]
  },
  {
   "cell_type": "markdown",
   "id": "a2def815",
   "metadata": {},
   "source": [
    "### Implementing the NestedCV class"
   ]
  },
  {
   "cell_type": "code",
   "execution_count": 2,
   "id": "19015425",
   "metadata": {},
   "outputs": [],
   "source": [
    "class NestedCV:\n",
    "    def __init__(self, k):\n",
    "        self.k = k\n",
    "\n",
    "    def split(self, data, date_column):\n",
    "        # Sort the data by date\n",
    "        data = data.sort_values(by=date_column)\n",
    "\n",
    "        # Initialize the outer time series split\n",
    "        outer_tscv = TimeSeriesSplit(n_splits=self.k + 1)\n",
    "\n",
    "        for train_val_index, test_index in outer_tscv.split(data):\n",
    "            # Get the train_val split and test split\n",
    "            train_val, test = data.iloc[train_val_index], data.iloc[test_index]\n",
    "\n",
    "            # Initialize the inner time series split\n",
    "            inner_tscv = TimeSeriesSplit(n_splits=self.k)\n",
    "\n",
    "            for train_index, val_index in inner_tscv.split(train_val):\n",
    "                # Get the train and validation split\n",
    "                train, val = train_val.iloc[train_index], train_val.iloc[val_index]\n",
    "\n",
    "                yield train, val, test\n"
   ]
  },
  {
   "cell_type": "markdown",
   "id": "0766f626",
   "metadata": {},
   "source": [
    "### Testing the Nested Class with some random sample data."
   ]
  },
  {
   "cell_type": "code",
   "execution_count": 3,
   "id": "a6952bfa",
   "metadata": {},
   "outputs": [
    {
     "name": "stdout",
     "output_type": "stream",
     "text": [
      "Number of splits :5\n"
     ]
    }
   ],
   "source": [
    "if __name__ == \"__main__\":\n",
    "    # creating a sample data\n",
    "    data = pd.DataFrame({\n",
    "        'date': pd.date_range(start='2022-01-01', periods=50),\n",
    "        'city': ['A']*25 + ['B']*25,\n",
    "        'quantity': range(50)\n",
    "    })\n",
    "\n",
    "    # nested cv\n",
    "    k = 5\n",
    "    cv = NestedCV(k)\n",
    "    splits = cv.split(data, \"date\")\n",
    "\n",
    "    # checking return type\n",
    "    assert isinstance(splits, GeneratorType)\n",
    "\n",
    "    # checking return types, shapes, and data leaks\n",
    "    count = 0\n",
    "    for train, validate, test in splits:\n",
    "        # types\n",
    "        assert isinstance(train, pd.DataFrame)\n",
    "        assert isinstance(validate, pd.DataFrame)\n",
    "        assert isinstance(test, pd.DataFrame)\n",
    "\n",
    "        # shape\n",
    "        assert train.shape[1] == validate.shape[1] == test.shape[1]\n",
    "\n",
    "        # data leak\n",
    "        assert train[\"date\"].max() <= validate[\"date\"].min()\n",
    "        assert validate[\"date\"].max() <= test[\"date\"].min()\n",
    "\n",
    "        count += 1\n",
    "\n",
    "    # checking number of splits returned\n",
    "    assert count == k * (k + 1)\n",
    "    print(f\"Number of splits :{int(count/(k+1))}\")"
   ]
  },
  {
   "cell_type": "markdown",
   "id": "403ebc90",
   "metadata": {},
   "source": [
    "## Loading Dataset"
   ]
  },
  {
   "cell_type": "code",
   "execution_count": 4,
   "id": "2c83fbc1",
   "metadata": {},
   "outputs": [
    {
     "data": {
      "text/html": [
       "<div>\n",
       "<style scoped>\n",
       "    .dataframe tbody tr th:only-of-type {\n",
       "        vertical-align: middle;\n",
       "    }\n",
       "\n",
       "    .dataframe tbody tr th {\n",
       "        vertical-align: top;\n",
       "    }\n",
       "\n",
       "    .dataframe thead th {\n",
       "        text-align: right;\n",
       "    }\n",
       "</style>\n",
       "<table border=\"1\" class=\"dataframe\">\n",
       "  <thead>\n",
       "    <tr style=\"text-align: right;\">\n",
       "      <th></th>\n",
       "      <th>id</th>\n",
       "      <th>date</th>\n",
       "      <th>city</th>\n",
       "      <th>lat</th>\n",
       "      <th>long</th>\n",
       "      <th>pop</th>\n",
       "      <th>shop</th>\n",
       "      <th>brand</th>\n",
       "      <th>container</th>\n",
       "      <th>capacity</th>\n",
       "      <th>price</th>\n",
       "      <th>quantity</th>\n",
       "    </tr>\n",
       "  </thead>\n",
       "  <tbody>\n",
       "    <tr>\n",
       "      <th>0</th>\n",
       "      <td>0.0</td>\n",
       "      <td>31/01/12</td>\n",
       "      <td>Athens</td>\n",
       "      <td>37.97945</td>\n",
       "      <td>23.71622</td>\n",
       "      <td>672130.0</td>\n",
       "      <td>shop_1</td>\n",
       "      <td>kinder-cola</td>\n",
       "      <td>glass</td>\n",
       "      <td>500ml</td>\n",
       "      <td>0.96</td>\n",
       "      <td>13280.0</td>\n",
       "    </tr>\n",
       "    <tr>\n",
       "      <th>1</th>\n",
       "      <td>1.0</td>\n",
       "      <td>31/01/12</td>\n",
       "      <td>Athens</td>\n",
       "      <td>37.97945</td>\n",
       "      <td>23.71622</td>\n",
       "      <td>672130.0</td>\n",
       "      <td>shop_1</td>\n",
       "      <td>kinder-cola</td>\n",
       "      <td>plastic</td>\n",
       "      <td>1.5lt</td>\n",
       "      <td>2.86</td>\n",
       "      <td>6727.0</td>\n",
       "    </tr>\n",
       "    <tr>\n",
       "      <th>2</th>\n",
       "      <td>2.0</td>\n",
       "      <td>31/01/12</td>\n",
       "      <td>Athens</td>\n",
       "      <td>37.97945</td>\n",
       "      <td>23.71622</td>\n",
       "      <td>672130.0</td>\n",
       "      <td>shop_1</td>\n",
       "      <td>kinder-cola</td>\n",
       "      <td>can</td>\n",
       "      <td>330ml</td>\n",
       "      <td>0.87</td>\n",
       "      <td>9848.0</td>\n",
       "    </tr>\n",
       "    <tr>\n",
       "      <th>3</th>\n",
       "      <td>3.0</td>\n",
       "      <td>31/01/12</td>\n",
       "      <td>Athens</td>\n",
       "      <td>37.97945</td>\n",
       "      <td>23.71622</td>\n",
       "      <td>672130.0</td>\n",
       "      <td>shop_1</td>\n",
       "      <td>adult-cola</td>\n",
       "      <td>glass</td>\n",
       "      <td>500ml</td>\n",
       "      <td>1.00</td>\n",
       "      <td>20050.0</td>\n",
       "    </tr>\n",
       "    <tr>\n",
       "      <th>4</th>\n",
       "      <td>4.0</td>\n",
       "      <td>31/01/12</td>\n",
       "      <td>Athens</td>\n",
       "      <td>37.97945</td>\n",
       "      <td>23.71622</td>\n",
       "      <td>672130.0</td>\n",
       "      <td>shop_1</td>\n",
       "      <td>adult-cola</td>\n",
       "      <td>can</td>\n",
       "      <td>330ml</td>\n",
       "      <td>0.39</td>\n",
       "      <td>25696.0</td>\n",
       "    </tr>\n",
       "  </tbody>\n",
       "</table>\n",
       "</div>"
      ],
      "text/plain": [
       "    id      date    city       lat      long       pop    shop        brand  \\\n",
       "0  0.0  31/01/12  Athens  37.97945  23.71622  672130.0  shop_1  kinder-cola   \n",
       "1  1.0  31/01/12  Athens  37.97945  23.71622  672130.0  shop_1  kinder-cola   \n",
       "2  2.0  31/01/12  Athens  37.97945  23.71622  672130.0  shop_1  kinder-cola   \n",
       "3  3.0  31/01/12  Athens  37.97945  23.71622  672130.0  shop_1   adult-cola   \n",
       "4  4.0  31/01/12  Athens  37.97945  23.71622  672130.0  shop_1   adult-cola   \n",
       "\n",
       "  container capacity  price  quantity  \n",
       "0     glass    500ml   0.96   13280.0  \n",
       "1   plastic    1.5lt   2.86    6727.0  \n",
       "2       can    330ml   0.87    9848.0  \n",
       "3     glass    500ml   1.00   20050.0  \n",
       "4       can    330ml   0.39   25696.0  "
      ]
     },
     "execution_count": 4,
     "metadata": {},
     "output_type": "execute_result"
    }
   ],
   "source": [
    "data = pd.read_csv(\"train.csv\")\n",
    "data.head()"
   ]
  },
  {
   "cell_type": "markdown",
   "id": "fc67666f",
   "metadata": {},
   "source": [
    "## Basic Checks of Data & Data Preprocessing"
   ]
  },
  {
   "cell_type": "code",
   "execution_count": 5,
   "id": "97093dec",
   "metadata": {},
   "outputs": [
    {
     "data": {
      "text/html": [
       "<div>\n",
       "<style scoped>\n",
       "    .dataframe tbody tr th:only-of-type {\n",
       "        vertical-align: middle;\n",
       "    }\n",
       "\n",
       "    .dataframe tbody tr th {\n",
       "        vertical-align: top;\n",
       "    }\n",
       "\n",
       "    .dataframe thead th {\n",
       "        text-align: right;\n",
       "    }\n",
       "</style>\n",
       "<table border=\"1\" class=\"dataframe\">\n",
       "  <thead>\n",
       "    <tr style=\"text-align: right;\">\n",
       "      <th></th>\n",
       "      <th>id</th>\n",
       "      <th>date</th>\n",
       "      <th>city</th>\n",
       "      <th>lat</th>\n",
       "      <th>long</th>\n",
       "      <th>pop</th>\n",
       "      <th>shop</th>\n",
       "      <th>brand</th>\n",
       "      <th>container</th>\n",
       "      <th>capacity</th>\n",
       "      <th>price</th>\n",
       "      <th>quantity</th>\n",
       "    </tr>\n",
       "  </thead>\n",
       "  <tbody>\n",
       "    <tr>\n",
       "      <th>0</th>\n",
       "      <td>0.0</td>\n",
       "      <td>31/01/12</td>\n",
       "      <td>Athens</td>\n",
       "      <td>37.97945</td>\n",
       "      <td>23.71622</td>\n",
       "      <td>672130.0</td>\n",
       "      <td>shop_1</td>\n",
       "      <td>kinder-cola</td>\n",
       "      <td>glass</td>\n",
       "      <td>500ml</td>\n",
       "      <td>0.96</td>\n",
       "      <td>13280.0</td>\n",
       "    </tr>\n",
       "    <tr>\n",
       "      <th>1</th>\n",
       "      <td>1.0</td>\n",
       "      <td>31/01/12</td>\n",
       "      <td>Athens</td>\n",
       "      <td>37.97945</td>\n",
       "      <td>23.71622</td>\n",
       "      <td>672130.0</td>\n",
       "      <td>shop_1</td>\n",
       "      <td>kinder-cola</td>\n",
       "      <td>plastic</td>\n",
       "      <td>1.5lt</td>\n",
       "      <td>2.86</td>\n",
       "      <td>6727.0</td>\n",
       "    </tr>\n",
       "    <tr>\n",
       "      <th>2</th>\n",
       "      <td>2.0</td>\n",
       "      <td>31/01/12</td>\n",
       "      <td>Athens</td>\n",
       "      <td>37.97945</td>\n",
       "      <td>23.71622</td>\n",
       "      <td>672130.0</td>\n",
       "      <td>shop_1</td>\n",
       "      <td>kinder-cola</td>\n",
       "      <td>can</td>\n",
       "      <td>330ml</td>\n",
       "      <td>0.87</td>\n",
       "      <td>9848.0</td>\n",
       "    </tr>\n",
       "    <tr>\n",
       "      <th>3</th>\n",
       "      <td>3.0</td>\n",
       "      <td>31/01/12</td>\n",
       "      <td>Athens</td>\n",
       "      <td>37.97945</td>\n",
       "      <td>23.71622</td>\n",
       "      <td>672130.0</td>\n",
       "      <td>shop_1</td>\n",
       "      <td>adult-cola</td>\n",
       "      <td>glass</td>\n",
       "      <td>500ml</td>\n",
       "      <td>1.00</td>\n",
       "      <td>20050.0</td>\n",
       "    </tr>\n",
       "    <tr>\n",
       "      <th>4</th>\n",
       "      <td>4.0</td>\n",
       "      <td>31/01/12</td>\n",
       "      <td>Athens</td>\n",
       "      <td>37.97945</td>\n",
       "      <td>23.71622</td>\n",
       "      <td>672130.0</td>\n",
       "      <td>shop_1</td>\n",
       "      <td>adult-cola</td>\n",
       "      <td>can</td>\n",
       "      <td>330ml</td>\n",
       "      <td>0.39</td>\n",
       "      <td>25696.0</td>\n",
       "    </tr>\n",
       "  </tbody>\n",
       "</table>\n",
       "</div>"
      ],
      "text/plain": [
       "    id      date    city       lat      long       pop    shop        brand  \\\n",
       "0  0.0  31/01/12  Athens  37.97945  23.71622  672130.0  shop_1  kinder-cola   \n",
       "1  1.0  31/01/12  Athens  37.97945  23.71622  672130.0  shop_1  kinder-cola   \n",
       "2  2.0  31/01/12  Athens  37.97945  23.71622  672130.0  shop_1  kinder-cola   \n",
       "3  3.0  31/01/12  Athens  37.97945  23.71622  672130.0  shop_1   adult-cola   \n",
       "4  4.0  31/01/12  Athens  37.97945  23.71622  672130.0  shop_1   adult-cola   \n",
       "\n",
       "  container capacity  price  quantity  \n",
       "0     glass    500ml   0.96   13280.0  \n",
       "1   plastic    1.5lt   2.86    6727.0  \n",
       "2       can    330ml   0.87    9848.0  \n",
       "3     glass    500ml   1.00   20050.0  \n",
       "4       can    330ml   0.39   25696.0  "
      ]
     },
     "execution_count": 5,
     "metadata": {},
     "output_type": "execute_result"
    }
   ],
   "source": [
    "data.head()"
   ]
  },
  {
   "cell_type": "code",
   "execution_count": 6,
   "id": "7dc08462",
   "metadata": {},
   "outputs": [
    {
     "data": {
      "text/plain": [
       "(7560, 12)"
      ]
     },
     "execution_count": 6,
     "metadata": {},
     "output_type": "execute_result"
    }
   ],
   "source": [
    "data.shape"
   ]
  },
  {
   "cell_type": "code",
   "execution_count": 7,
   "id": "49030153",
   "metadata": {},
   "outputs": [
    {
     "data": {
      "text/html": [
       "<div>\n",
       "<style scoped>\n",
       "    .dataframe tbody tr th:only-of-type {\n",
       "        vertical-align: middle;\n",
       "    }\n",
       "\n",
       "    .dataframe tbody tr th {\n",
       "        vertical-align: top;\n",
       "    }\n",
       "\n",
       "    .dataframe thead th {\n",
       "        text-align: right;\n",
       "    }\n",
       "</style>\n",
       "<table border=\"1\" class=\"dataframe\">\n",
       "  <thead>\n",
       "    <tr style=\"text-align: right;\">\n",
       "      <th></th>\n",
       "      <th>id</th>\n",
       "      <th>lat</th>\n",
       "      <th>long</th>\n",
       "      <th>pop</th>\n",
       "      <th>price</th>\n",
       "      <th>quantity</th>\n",
       "    </tr>\n",
       "  </thead>\n",
       "  <tbody>\n",
       "    <tr>\n",
       "      <th>count</th>\n",
       "      <td>6480.000000</td>\n",
       "      <td>6429.000000</td>\n",
       "      <td>6434.000000</td>\n",
       "      <td>6480.000000</td>\n",
       "      <td>6480.000000</td>\n",
       "      <td>6480.000000</td>\n",
       "    </tr>\n",
       "    <tr>\n",
       "      <th>mean</th>\n",
       "      <td>3239.500000</td>\n",
       "      <td>38.301238</td>\n",
       "      <td>23.270246</td>\n",
       "      <td>355141.416667</td>\n",
       "      <td>1.188981</td>\n",
       "      <td>29431.855093</td>\n",
       "    </tr>\n",
       "    <tr>\n",
       "      <th>std</th>\n",
       "      <td>1870.759204</td>\n",
       "      <td>1.649771</td>\n",
       "      <td>1.086960</td>\n",
       "      <td>232828.796289</td>\n",
       "      <td>0.814567</td>\n",
       "      <td>17901.328301</td>\n",
       "    </tr>\n",
       "    <tr>\n",
       "      <th>min</th>\n",
       "      <td>0.000000</td>\n",
       "      <td>35.327870</td>\n",
       "      <td>21.734440</td>\n",
       "      <td>134219.000000</td>\n",
       "      <td>0.110000</td>\n",
       "      <td>2953.000000</td>\n",
       "    </tr>\n",
       "    <tr>\n",
       "      <th>25%</th>\n",
       "      <td>1619.750000</td>\n",
       "      <td>37.962450</td>\n",
       "      <td>22.417610</td>\n",
       "      <td>141439.750000</td>\n",
       "      <td>0.610000</td>\n",
       "      <td>16441.750000</td>\n",
       "    </tr>\n",
       "    <tr>\n",
       "      <th>50%</th>\n",
       "      <td>3239.500000</td>\n",
       "      <td>38.244440</td>\n",
       "      <td>22.930860</td>\n",
       "      <td>257501.500000</td>\n",
       "      <td>0.920000</td>\n",
       "      <td>25184.000000</td>\n",
       "    </tr>\n",
       "    <tr>\n",
       "      <th>75%</th>\n",
       "      <td>4859.250000</td>\n",
       "      <td>39.636890</td>\n",
       "      <td>23.716220</td>\n",
       "      <td>665871.000000</td>\n",
       "      <td>1.500000</td>\n",
       "      <td>37866.000000</td>\n",
       "    </tr>\n",
       "    <tr>\n",
       "      <th>max</th>\n",
       "      <td>6479.000000</td>\n",
       "      <td>40.643610</td>\n",
       "      <td>25.143410</td>\n",
       "      <td>672130.000000</td>\n",
       "      <td>4.540000</td>\n",
       "      <td>145287.000000</td>\n",
       "    </tr>\n",
       "  </tbody>\n",
       "</table>\n",
       "</div>"
      ],
      "text/plain": [
       "                id          lat         long            pop        price  \\\n",
       "count  6480.000000  6429.000000  6434.000000    6480.000000  6480.000000   \n",
       "mean   3239.500000    38.301238    23.270246  355141.416667     1.188981   \n",
       "std    1870.759204     1.649771     1.086960  232828.796289     0.814567   \n",
       "min       0.000000    35.327870    21.734440  134219.000000     0.110000   \n",
       "25%    1619.750000    37.962450    22.417610  141439.750000     0.610000   \n",
       "50%    3239.500000    38.244440    22.930860  257501.500000     0.920000   \n",
       "75%    4859.250000    39.636890    23.716220  665871.000000     1.500000   \n",
       "max    6479.000000    40.643610    25.143410  672130.000000     4.540000   \n",
       "\n",
       "            quantity  \n",
       "count    6480.000000  \n",
       "mean    29431.855093  \n",
       "std     17901.328301  \n",
       "min      2953.000000  \n",
       "25%     16441.750000  \n",
       "50%     25184.000000  \n",
       "75%     37866.000000  \n",
       "max    145287.000000  "
      ]
     },
     "execution_count": 7,
     "metadata": {},
     "output_type": "execute_result"
    }
   ],
   "source": [
    "data.describe()"
   ]
  },
  {
   "cell_type": "code",
   "execution_count": 8,
   "id": "2e69e16b",
   "metadata": {},
   "outputs": [
    {
     "data": {
      "text/html": [
       "<div>\n",
       "<style scoped>\n",
       "    .dataframe tbody tr th:only-of-type {\n",
       "        vertical-align: middle;\n",
       "    }\n",
       "\n",
       "    .dataframe tbody tr th {\n",
       "        vertical-align: top;\n",
       "    }\n",
       "\n",
       "    .dataframe thead th {\n",
       "        text-align: right;\n",
       "    }\n",
       "</style>\n",
       "<table border=\"1\" class=\"dataframe\">\n",
       "  <thead>\n",
       "    <tr style=\"text-align: right;\">\n",
       "      <th></th>\n",
       "      <th>date</th>\n",
       "      <th>city</th>\n",
       "      <th>shop</th>\n",
       "      <th>brand</th>\n",
       "      <th>container</th>\n",
       "      <th>capacity</th>\n",
       "    </tr>\n",
       "  </thead>\n",
       "  <tbody>\n",
       "    <tr>\n",
       "      <th>count</th>\n",
       "      <td>6480</td>\n",
       "      <td>6480</td>\n",
       "      <td>6480</td>\n",
       "      <td>6480</td>\n",
       "      <td>6464</td>\n",
       "      <td>6465</td>\n",
       "    </tr>\n",
       "    <tr>\n",
       "      <th>unique</th>\n",
       "      <td>72</td>\n",
       "      <td>5</td>\n",
       "      <td>6</td>\n",
       "      <td>5</td>\n",
       "      <td>3</td>\n",
       "      <td>3</td>\n",
       "    </tr>\n",
       "    <tr>\n",
       "      <th>top</th>\n",
       "      <td>31/01/12</td>\n",
       "      <td>Athens</td>\n",
       "      <td>shop_1</td>\n",
       "      <td>kinder-cola</td>\n",
       "      <td>plastic</td>\n",
       "      <td>1.5lt</td>\n",
       "    </tr>\n",
       "    <tr>\n",
       "      <th>freq</th>\n",
       "      <td>90</td>\n",
       "      <td>2160</td>\n",
       "      <td>1080</td>\n",
       "      <td>1296</td>\n",
       "      <td>2157</td>\n",
       "      <td>2157</td>\n",
       "    </tr>\n",
       "  </tbody>\n",
       "</table>\n",
       "</div>"
      ],
      "text/plain": [
       "            date    city    shop        brand container capacity\n",
       "count       6480    6480    6480         6480      6464     6465\n",
       "unique        72       5       6            5         3        3\n",
       "top     31/01/12  Athens  shop_1  kinder-cola   plastic    1.5lt\n",
       "freq          90    2160    1080         1296      2157     2157"
      ]
     },
     "execution_count": 8,
     "metadata": {},
     "output_type": "execute_result"
    }
   ],
   "source": [
    "data.describe(include = \"O\")"
   ]
  },
  {
   "cell_type": "markdown",
   "id": "aa2d90e3",
   "metadata": {},
   "source": [
    "    ** On analyzing the description od data, we can say that there are no constant columns and no corrupt data."
   ]
  },
  {
   "cell_type": "code",
   "execution_count": 9,
   "id": "c2baec35",
   "metadata": {},
   "outputs": [
    {
     "name": "stdout",
     "output_type": "stream",
     "text": [
      "<class 'pandas.core.frame.DataFrame'>\n",
      "RangeIndex: 7560 entries, 0 to 7559\n",
      "Data columns (total 12 columns):\n",
      " #   Column     Non-Null Count  Dtype  \n",
      "---  ------     --------------  -----  \n",
      " 0   id         6480 non-null   float64\n",
      " 1   date       6480 non-null   object \n",
      " 2   city       6480 non-null   object \n",
      " 3   lat        6429 non-null   float64\n",
      " 4   long       6434 non-null   float64\n",
      " 5   pop        6480 non-null   float64\n",
      " 6   shop       6480 non-null   object \n",
      " 7   brand      6480 non-null   object \n",
      " 8   container  6464 non-null   object \n",
      " 9   capacity   6465 non-null   object \n",
      " 10  price      6480 non-null   float64\n",
      " 11  quantity   6480 non-null   float64\n",
      "dtypes: float64(6), object(6)\n",
      "memory usage: 708.9+ KB\n"
     ]
    }
   ],
   "source": [
    "data.info()"
   ]
  },
  {
   "cell_type": "code",
   "execution_count": 10,
   "id": "77bb6905",
   "metadata": {},
   "outputs": [
    {
     "data": {
      "text/plain": [
       "id           1080\n",
       "date         1080\n",
       "city         1080\n",
       "lat          1131\n",
       "long         1126\n",
       "pop          1080\n",
       "shop         1080\n",
       "brand        1080\n",
       "container    1096\n",
       "capacity     1095\n",
       "price        1080\n",
       "quantity     1080\n",
       "dtype: int64"
      ]
     },
     "execution_count": 10,
     "metadata": {},
     "output_type": "execute_result"
    }
   ],
   "source": [
    "data.isnull().sum()"
   ]
  },
  {
   "cell_type": "code",
   "execution_count": 11,
   "id": "78fa4814",
   "metadata": {},
   "outputs": [
    {
     "data": {
      "text/plain": [
       "1079"
      ]
     },
     "execution_count": 11,
     "metadata": {},
     "output_type": "execute_result"
    }
   ],
   "source": [
    "data.duplicated().sum()"
   ]
  },
  {
   "cell_type": "markdown",
   "id": "f82caf00",
   "metadata": {},
   "source": [
    "    ** Here date column is of object data type. So, we will do typecasting for 'date' column.\n",
    "    ** Also we have encountered null values in all the columns, so we have to impute values in place of them.\n",
    "    ** There are 1079 duplicate column found , which we will drop from the table."
   ]
  },
  {
   "cell_type": "code",
   "execution_count": 12,
   "id": "f54600d3",
   "metadata": {},
   "outputs": [],
   "source": [
    "data[\"date\"] = pd.to_datetime(data[\"date\"])\n",
    "data = data.sort_values(by=\"date\")\n",
    "data = data.fillna(method='ffill')\n",
    "data = data.drop_duplicates()"
   ]
  },
  {
   "cell_type": "markdown",
   "id": "d5db9e3c",
   "metadata": {},
   "source": [
    "## Feature Selection"
   ]
  },
  {
   "cell_type": "code",
   "execution_count": 13,
   "id": "c840019d",
   "metadata": {},
   "outputs": [],
   "source": [
    "data = data.drop(['id','lat','long','pop'],axis=1)   # dropping unneccesary columns"
   ]
  },
  {
   "cell_type": "code",
   "execution_count": 14,
   "id": "ceabd2ea",
   "metadata": {
    "scrolled": false
   },
   "outputs": [
    {
     "name": "stdout",
     "output_type": "stream",
     "text": [
      "        date    city    shop        brand container capacity     price  \\\n",
      "0 2012-01-31  Athens  shop_1  kinder-cola     glass    500ml  1.164333   \n",
      "1 2012-02-01  Athens       0            0         0        0  0.000000   \n",
      "2 2012-02-02  Athens       0            0         0        0  0.000000   \n",
      "3 2012-02-03  Athens       0            0         0        0  0.000000   \n",
      "4 2012-02-04  Athens       0            0         0        0  0.000000   \n",
      "\n",
      "   quantity  \n",
      "0  499723.0  \n",
      "1       0.0  \n",
      "2       0.0  \n",
      "3       0.0  \n",
      "4       0.0  \n"
     ]
    }
   ],
   "source": [
    "# Aggregate data for duplicate dates (e.g., sum quantities)\n",
    "data = data.groupby(['date','city']).agg({\n",
    "    'shop': 'first',\n",
    "    'brand': 'first',\n",
    "    'container': 'first',\n",
    "    'capacity': 'first',\n",
    "    'price': 'mean',\n",
    "    'quantity': 'sum'\n",
    "}).reset_index()\n",
    "\n",
    " # Resample to daily frequency within each city\n",
    "resampled_data = []\n",
    "cities = data['city'].unique()\n",
    "\n",
    "for city in cities:\n",
    "    city_data = data[data['city'] == city].set_index('date').resample('D').asfreq().reset_index()\n",
    "    city_data['city'] = city\n",
    "    resampled_data.append(city_data)\n",
    "\n",
    "data = pd.concat(resampled_data).reset_index(drop=True)\n",
    "data = data.fillna(0)\n",
    "\n",
    "\n",
    "print(data.head())"
   ]
  },
  {
   "cell_type": "markdown",
   "id": "0f7521ec",
   "metadata": {},
   "source": [
    "## Nested CV with actual Dataset"
   ]
  },
  {
   "cell_type": "code",
   "execution_count": 15,
   "id": "d9500781",
   "metadata": {},
   "outputs": [
    {
     "name": "stdout",
     "output_type": "stream",
     "text": [
      "Number of splits: 5\n"
     ]
    }
   ],
   "source": [
    "if __name__ == \"__main__\":\n",
    "    # Loading and preprocessing dataset\n",
    "    data = pd.read_csv(\"train.csv\")\n",
    "    data[\"date\"] = pd.to_datetime(data[\"date\"])\n",
    "    data = data.sort_values(by=\"date\")\n",
    "    data = data.fillna(method='ffill')\n",
    "    data = data.drop_duplicates()\n",
    "    data = data.drop(['id','lat','long','pop'],axis=1)   # dropping unneccesary columns\n",
    "    \n",
    "    # Aggregating data for duplicate dates\n",
    "    data = data.groupby(['date','city']).agg({\n",
    "        'shop': 'first',\n",
    "        'brand': 'first',\n",
    "        'container': 'first',\n",
    "        'capacity': 'first',\n",
    "        'price': 'mean',\n",
    "        'quantity': 'sum'\n",
    "    }).reset_index()\n",
    "    \n",
    "    \n",
    "    # Resample to daily frequency within each city\n",
    "    resampled_data = []\n",
    "    cities = data['city'].unique()\n",
    "\n",
    "    for city in cities:\n",
    "        city_data = data[data['city'] == city].set_index('date').resample('D').asfreq().reset_index()\n",
    "        city_data['city'] = city\n",
    "        resampled_data.append(city_data)\n",
    "\n",
    "    data = pd.concat(resampled_data).reset_index(drop=True)\n",
    "    data = data.fillna(0)\n",
    "\n",
    "    \n",
    "\n",
    "    # Initializing NestedCV with k-folds\n",
    "    k = 5\n",
    "    cv = NestedCV(k)\n",
    "    splits = cv.split(data, \"date\")\n",
    "\n",
    "    # Checking return type\n",
    "    assert isinstance(splits, GeneratorType)\n",
    "\n",
    "    # Checking return types, shapes, and data leaks\n",
    "    count = 0\n",
    "    for train, validate, test in splits:\n",
    "        # Types\n",
    "        assert isinstance(train, pd.DataFrame)\n",
    "        assert isinstance(validate, pd.DataFrame)\n",
    "        assert isinstance(test, pd.DataFrame)\n",
    "\n",
    "        # Shape\n",
    "        assert train.shape[1] == validate.shape[1] == test.shape[1]\n",
    "\n",
    "        # Data leak\n",
    "        assert train[\"date\"].max() <= validate[\"date\"].min()\n",
    "        assert validate[\"date\"].max() <= test[\"date\"].min()\n",
    "\n",
    "        count += 1\n",
    "\n",
    "    # Checking number of splits returned\n",
    "    assert count == k * (k + 1)\n",
    "    print(f\"Number of splits: {int(count/(k+1))}\")\n"
   ]
  },
  {
   "cell_type": "markdown",
   "id": "1c886db5",
   "metadata": {},
   "source": [
    "## Model Building"
   ]
  },
  {
   "cell_type": "markdown",
   "id": "d60be53e",
   "metadata": {},
   "source": [
    "## Check for Stationarity of data"
   ]
  },
  {
   "cell_type": "code",
   "execution_count": 16,
   "id": "03c5632c",
   "metadata": {},
   "outputs": [
    {
     "data": {
      "text/plain": [
       "<Figure size 1000x600 with 0 Axes>"
      ]
     },
     "metadata": {},
     "output_type": "display_data"
    },
    {
     "data": {
      "image/png": "[encoded data removed]",
      "text/plain": [
       "<Figure size 640x480 with 1 Axes>"
      ]
     },
     "metadata": {},
     "output_type": "display_data"
    }
   ],
   "source": [
    "import matplotlib.pyplot as plt\n",
    "from statsmodels.graphics.tsaplots import plot_acf\n",
    "\n",
    "# Plot ACF\n",
    "plt.figure(figsize=(10, 6))\n",
    "plot_acf(data['quantity'])\n",
    "plt.title('ACF Plot for Quantity')\n",
    "plt.show()"
   ]
  },
  {
   "cell_type": "markdown",
   "id": "670e4602",
   "metadata": {},
   "source": [
    "    ** Looking into this plot we can't really say weather it is stationary or not. So, we will go for augmented dicky-fuller test."
   ]
  },
  {
   "cell_type": "code",
   "execution_count": 17,
   "id": "3a27f1ad",
   "metadata": {},
   "outputs": [
    {
     "name": "stdout",
     "output_type": "stream",
     "text": [
      "ADF Statistic: -7.218396175361655\n",
      "p-value: 2.1430333968041891e-10\n",
      "Critical Value (1%): -3.430957265725434\n",
      "Critical Value (5%): -2.8618083774429204\n",
      "Critical Value (10%): -2.5669128521764804\n",
      "The series is stationary.\n"
     ]
    }
   ],
   "source": [
    "from statsmodels.tsa.stattools import adfuller\n",
    "\n",
    "def check_stationarity(series):\n",
    "    result = adfuller(series)\n",
    "    print('ADF Statistic:', result[0])\n",
    "    print('p-value:', result[1])\n",
    "    for key, value in result[4].items():\n",
    "        print(f'Critical Value ({key}): {value}')\n",
    "    if result[1] > 0.05:\n",
    "        print(\"The series is non-stationary.\")\n",
    "    else:\n",
    "        print(\"The series is stationary.\")\n",
    "\n",
    "# Check stationarity of 'quantity'\n",
    "check_stationarity(data['quantity'])"
   ]
  },
  {
   "cell_type": "markdown",
   "id": "b772cf62",
   "metadata": {},
   "source": [
    "## ARIMA Model using cross validation method"
   ]
  },
  {
   "cell_type": "code",
   "execution_count": 18,
   "id": "c966372e",
   "metadata": {},
   "outputs": [
    {
     "data": {
      "text/plain": [
       "(10810, 8)"
      ]
     },
     "execution_count": 18,
     "metadata": {},
     "output_type": "execute_result"
    }
   ],
   "source": [
    "data.shape"
   ]
  },
  {
   "cell_type": "code",
   "execution_count": 19,
   "id": "a3fb1c41",
   "metadata": {},
   "outputs": [
    {
     "name": "stdout",
     "output_type": "stream",
     "text": [
      "Shape of data: (10810, 8)\n",
      "Shape of Train: (9000, 8)\n",
      "Shape of Test: (1810, 8)\n"
     ]
    }
   ],
   "source": [
    "Qtrain = data[:9000]\n",
    "Qtest = data[9000:]\n",
    "print('Shape of data:',data.shape)\n",
    "print('Shape of Train:',Qtrain.shape)\n",
    "print('Shape of Test:',Qtest.shape)"
   ]
  },
  {
   "cell_type": "code",
   "execution_count": 20,
   "id": "1a7375b1",
   "metadata": {},
   "outputs": [
    {
     "name": "stderr",
     "output_type": "stream",
     "text": [
      "  8%|██████▉                                                                            | 1/12 [00:00<00:07,  1.48it/s]"
     ]
    },
    {
     "name": "stdout",
     "output_type": "stream",
     "text": [
      "Order: (0, 0, 0), MSE: 0.044969670184925974\n"
     ]
    },
    {
     "name": "stderr",
     "output_type": "stream",
     "text": [
      "\r",
      " 17%|█████████████▊                                                                     | 2/12 [00:01<00:06,  1.65it/s]"
     ]
    },
    {
     "name": "stdout",
     "output_type": "stream",
     "text": [
      "Order: (0, 0, 1), MSE: 0.04496970936062836\n"
     ]
    },
    {
     "name": "stderr",
     "output_type": "stream",
     "text": [
      "\r",
      " 25%|████████████████████▊                                                              | 3/12 [00:02<00:07,  1.16it/s]"
     ]
    },
    {
     "name": "stdout",
     "output_type": "stream",
     "text": [
      "Order: (0, 0, 2), MSE: 0.04496985956140071\n"
     ]
    },
    {
     "name": "stderr",
     "output_type": "stream",
     "text": [
      "\r",
      " 33%|███████████████████████████▋                                                       | 4/12 [00:03<00:07,  1.07it/s]"
     ]
    },
    {
     "name": "stdout",
     "output_type": "stream",
     "text": [
      "Order: (1, 0, 0), MSE: 0.04496970637835439\n"
     ]
    },
    {
     "name": "stderr",
     "output_type": "stream",
     "text": [
      "\r",
      " 42%|██████████████████████████████████▌                                                | 5/12 [00:08<00:16,  2.42s/it]"
     ]
    },
    {
     "name": "stdout",
     "output_type": "stream",
     "text": [
      "Order: (1, 0, 1), MSE: 0.04497212759303987\n"
     ]
    },
    {
     "name": "stderr",
     "output_type": "stream",
     "text": [
      "\r",
      " 50%|█████████████████████████████████████████▌                                         | 6/12 [00:16<00:25,  4.20s/it]"
     ]
    },
    {
     "name": "stdout",
     "output_type": "stream",
     "text": [
      "Order: (1, 0, 2), MSE: 0.04497180176704055\n"
     ]
    },
    {
     "name": "stderr",
     "output_type": "stream",
     "text": [
      "\r",
      " 58%|████████████████████████████████████████████████▍                                  | 7/12 [00:16<00:15,  3.04s/it]"
     ]
    },
    {
     "name": "stdout",
     "output_type": "stream",
     "text": [
      "Order: (2, 0, 0), MSE: 0.04496982088135642\n"
     ]
    },
    {
     "name": "stderr",
     "output_type": "stream",
     "text": [
      "\r",
      " 67%|███████████████████████████████████████████████████████▎                           | 8/12 [00:26<00:20,  5.22s/it]"
     ]
    },
    {
     "name": "stdout",
     "output_type": "stream",
     "text": [
      "Order: (2, 0, 1), MSE: 0.04497180688404792\n"
     ]
    },
    {
     "name": "stderr",
     "output_type": "stream",
     "text": [
      "\r",
      " 75%|██████████████████████████████████████████████████████████████▎                    | 9/12 [00:32<00:16,  5.43s/it]"
     ]
    },
    {
     "name": "stdout",
     "output_type": "stream",
     "text": [
      "Order: (2, 0, 2), MSE: 0.04497211008226722\n"
     ]
    },
    {
     "name": "stderr",
     "output_type": "stream",
     "text": [
      "\r",
      " 83%|████████████████████████████████████████████████████████████████████▎             | 10/12 [00:33<00:07,  3.96s/it]"
     ]
    },
    {
     "name": "stdout",
     "output_type": "stream",
     "text": [
      "Order: (3, 0, 0), MSE: 0.04496999420281298\n"
     ]
    },
    {
     "name": "stderr",
     "output_type": "stream",
     "text": [
      "\r",
      " 92%|███████████████████████████████████████████████████████████████████████████▏      | 11/12 [00:39<00:04,  4.81s/it]"
     ]
    },
    {
     "name": "stdout",
     "output_type": "stream",
     "text": [
      "Order: (3, 0, 1), MSE: 0.04497281528322389\n"
     ]
    },
    {
     "name": "stderr",
     "output_type": "stream",
     "text": [
      "100%|██████████████████████████████████████████████████████████████████████████████████| 12/12 [00:47<00:00,  3.93s/it]"
     ]
    },
    {
     "name": "stdout",
     "output_type": "stream",
     "text": [
      "Order: (3, 0, 2), MSE: 0.04497264120980765\n",
      "Best parameters: (0, 0, 0) with MSE: 0.044969670184925974\n"
     ]
    },
    {
     "name": "stderr",
     "output_type": "stream",
     "text": [
      "\n"
     ]
    }
   ],
   "source": [
    "import itertools\n",
    "from tqdm import tqdm\n",
    "from statsmodels.tsa.arima.model import ARIMA\n",
    "from sklearn.metrics import mean_squared_error\n",
    "import numpy as np\n",
    "import pandas as pd\n",
    "\n",
    "# Example column index (0 for the first column)\n",
    "column_index = 6\n",
    "\n",
    "# Ensuring the data is numeric and select the specific column\n",
    "Qtrain_col = pd.to_numeric(Qtrain.iloc[:, column_index], errors='coerce').dropna()\n",
    "Qtest_col = pd.to_numeric(Qtest.iloc[:, column_index], errors='coerce').dropna()\n",
    "\n",
    "p = range(0, 4)\n",
    "d = range(0, 1)\n",
    "q = range(0, 3)\n",
    "pdq = list(itertools.product(p, d, q))\n",
    "\n",
    "MSE = []\n",
    "Parameter = []\n",
    "\n",
    "for x in tqdm(pdq):\n",
    "    try:\n",
    "        Model = ARIMA(Qtrain_col, order=x).fit()\n",
    "        QPredict = Model.forecast(steps=len(Qtest_col))\n",
    "        mse = mean_squared_error(Qtest_col, QPredict)\n",
    "        MSE.append(mse)\n",
    "        Parameter.append(x)\n",
    "        print(f\"Order: {x}, MSE: {mse}\")\n",
    "    except Exception as e:\n",
    "        print(f\"Error with order {x}: {e}\")\n",
    "\n",
    "# Displaying the best parameters and corresponding MSE\n",
    "if MSE:  # Checking if MSE list is not empty\n",
    "    best_index = np.argmin(MSE)\n",
    "    print(f\"Best parameters: {Parameter[best_index]} with MSE: {MSE[best_index]}\")\n",
    "else:\n",
    "    print(\"No valid models found.\")\n"
   ]
  },
  {
   "cell_type": "code",
   "execution_count": 21,
   "id": "23b8b383",
   "metadata": {},
   "outputs": [
    {
     "name": "stdout",
     "output_type": "stream",
     "text": [
      "MSE: 0.044969670184925974 Index: 0\n",
      "(p,d,q): (0, 0, 0)\n"
     ]
    }
   ],
   "source": [
    "# Leasting MSE with index and Best (p,d,q) combination:\n",
    "print('MSE:',min(MSE),'Index:',np.argmin(MSE))\n",
    "Index=np.argmin(MSE)\n",
    "print('(p,d,q):',Parameter[Index])\n",
    "QParam=Parameter[Index]"
   ]
  },
  {
   "cell_type": "code",
   "execution_count": 22,
   "id": "9d478a8c",
   "metadata": {},
   "outputs": [
    {
     "name": "stdout",
     "output_type": "stream",
     "text": [
      "Mean RMSE: 102381.86208085346\n"
     ]
    }
   ],
   "source": [
    "from statsmodels.tsa.arima.model import ARIMA\n",
    "from sklearn.metrics import mean_squared_error\n",
    "\n",
    "# Defining a function to fit ARIMA model and evaluate\n",
    "def fit_arima(train, validate):\n",
    "    # Fit ARIMA model\n",
    "    model = ARIMA(train['quantity'], order=(2, 0, 1))\n",
    "    model_fit = model.fit()\n",
    "\n",
    "    # Making predictions\n",
    "    forecast = model_fit.forecast(steps=len(validate))\n",
    "\n",
    "    # Calculating error (e.g., RMSE)\n",
    "    rmse = mean_squared_error(validate['quantity'], forecast, squared=False)\n",
    "\n",
    "    return rmse\n",
    "\n",
    "# Initializing lists to store evaluation results\n",
    "rmse_scores = []\n",
    "\n",
    "# Performing nested cross-validation\n",
    "cv = NestedCV(k)\n",
    "splits = cv.split(data, \"date\")\n",
    "\n",
    "for train, validate, test in splits:\n",
    "    rmse = fit_arima(train, validate)\n",
    "    rmse_scores.append(rmse)\n",
    "\n",
    "# Calculating mean RMSE across all folds\n",
    "mean_rmse = np.mean(rmse_scores)\n",
    "print(\"Mean RMSE:\", mean_rmse)"
   ]
  },
  {
   "cell_type": "markdown",
   "id": "d51ac4a7",
   "metadata": {},
   "source": [
    "# Conclusion\n",
    "\n",
    "**The nested time series cross-validation strategy implemented in this project has been successfully tested and used to evaluate a SARIMA model on the provided dataset. The evaluation resulted in a Mean RMSE (Root Mean Squared Error) of 102381.86.**"
   ]
  },
  {
   "cell_type": "markdown",
   "id": "40ec92f9",
   "metadata": {},
   "source": [
    "## Testing the code with \"test.csv\" data"
   ]
  },
  {
   "cell_type": "code",
   "execution_count": 23,
   "id": "f4e9b9e0",
   "metadata": {},
   "outputs": [
    {
     "name": "stdout",
     "output_type": "stream",
     "text": [
      "Number of splits: 5\n"
     ]
    }
   ],
   "source": [
    "if __name__ == \"__main__\":\n",
    "    # Loading and preprocessing dataset\n",
    "    data = pd.read_csv(\"test.csv\")\n",
    "    data[\"date\"] = pd.to_datetime(data[\"date\"])\n",
    "    data = data.sort_values(by=\"date\")\n",
    "    data = data.fillna(method='ffill')\n",
    "    data = data.drop_duplicates()\n",
    "    data = data.drop(['id','lat','long','pop'],axis=1)   # dropping unneccesary columns\n",
    "    \n",
    "    # Aggregating data for duplicate dates\n",
    "    data = data.groupby(['date','city']).agg({\n",
    "        'shop': 'first',\n",
    "        'brand': 'first',\n",
    "        'container': 'first',\n",
    "        'capacity': 'first',\n",
    "        'price': 'mean',\n",
    "        'quantity': 'sum'\n",
    "    }).reset_index()\n",
    "    \n",
    "    \n",
    "    # Resampling to daily frequency within each city\n",
    "    resampled_data = []\n",
    "    cities = data['city'].unique()\n",
    "\n",
    "    for city in cities:\n",
    "        city_data = data[data['city'] == city].set_index('date').resample('D').asfreq().reset_index()\n",
    "        city_data['city'] = city\n",
    "        resampled_data.append(city_data)\n",
    "\n",
    "    data = pd.concat(resampled_data).reset_index(drop=True)\n",
    "    data = data.fillna(0)\n",
    "\n",
    "    \n",
    "\n",
    "    # Initializing NestedCV with k-folds\n",
    "    k = 5\n",
    "    cv = NestedCV(k)\n",
    "    splits = cv.split(data, \"date\")\n",
    "\n",
    "    # Checking return type\n",
    "    assert isinstance(splits, GeneratorType)\n",
    "\n",
    "    # Checking return types, shapes, and data leaks\n",
    "    count = 0\n",
    "    for train, validate, test in splits:\n",
    "        # Types\n",
    "        assert isinstance(train, pd.DataFrame)\n",
    "        assert isinstance(validate, pd.DataFrame)\n",
    "        assert isinstance(test, pd.DataFrame)\n",
    "\n",
    "        # Shape\n",
    "        assert train.shape[1] == validate.shape[1] == test.shape[1]\n",
    "\n",
    "        # Data leak\n",
    "        assert train[\"date\"].max() <= validate[\"date\"].min()\n",
    "        assert validate[\"date\"].max() <= test[\"date\"].min()\n",
    "\n",
    "        count += 1\n",
    "\n",
    "    # Checking number of splits returned\n",
    "    assert count == k * (k + 1)\n",
    "    print(f\"Number of splits: {int(count/(k+1))}\")"
   ]
  },
  {
   "cell_type": "code",
   "execution_count": 24,
   "id": "323ef6ac",
   "metadata": {},
   "outputs": [
    {
     "name": "stdout",
     "output_type": "stream",
     "text": [
      "Mean RMSE: 86433.84142321168\n"
     ]
    }
   ],
   "source": [
    "from statsmodels.tsa.arima.model import ARIMA\n",
    "from sklearn.metrics import mean_squared_error\n",
    "\n",
    "# Defining a function to fit ARIMA model and evaluate\n",
    "def fit_arima(train, validate):\n",
    "    # Fit ARIMA model\n",
    "    model = ARIMA(train['quantity'], order=(2, 0, 1))\n",
    "    model_fit = model.fit()\n",
    "\n",
    "    # Making predictions\n",
    "    forecast = model_fit.forecast(steps=len(validate))\n",
    "\n",
    "    # Calculating error (e.g., RMSE)\n",
    "    rmse = mean_squared_error(validate['quantity'], forecast, squared=False)\n",
    "\n",
    "    return rmse\n",
    "\n",
    "# Initializing lists to store evaluation results\n",
    "rmse_scores = []\n",
    "\n",
    "# Performing nested cross-validation\n",
    "cv = NestedCV(k)\n",
    "splits = cv.split(data, \"date\")\n",
    "\n",
    "for train, validate, test in splits:\n",
    "    rmse = fit_arima(train, validate)\n",
    "    rmse_scores.append(rmse)\n",
    "\n",
    "# Calculating mean RMSE across all folds\n",
    "mean_rmse = np.mean(rmse_scores)\n",
    "print(\"Mean RMSE:\", mean_rmse)"
   ]
  },
  {
   "cell_type": "markdown",
   "id": "c16ab0ad",
   "metadata": {},
   "source": [
    "# Challenges\n",
    "\n",
    "**Data Quality:** Ensuring the accuracy and completeness of data, especially with respect to dates and quantities.\n",
    "\n",
    "**Seasonality and Trends:** Correctly identifying and adjusting for seasonality and long-term trends in the sales data.\n",
    "\n",
    "**External Factors:** Accounting for external factors such as marketing campaigns, holidays, and economic conditions that can influence sales.\n",
    "\n",
    "\n",
    "# Tools and Techniques\n",
    "\n",
    "**Pandas:** For data manipulation and preprocessing.\n",
    "**Scikit-learn:** For implementing machine learning models and cross-validation strategies.\n",
    "**Statsmodels:** For time series analysis and forecasting."
   ]
  },
  {
   "cell_type": "code",
   "execution_count": null,
   "id": "a0344074",
   "metadata": {},
   "outputs": [],
   "source": []
  }
 ],
 "metadata": {
  "kernelspec": {
   "display_name": "Python 3 (ipykernel)",
   "language": "python",
   "name": "python3"
  },
  "language_info": {
   "codemirror_mode": {
    "name": "ipython",
    "version": 3
   },
   "file_extension": ".py",
   "mimetype": "text/x-python",
   "name": "python",
   "nbconvert_exporter": "python",
   "pygments_lexer": "ipython3",
   "version": "3.11.4"
  }
 },
 "nbformat": 4,
 "nbformat_minor": 5
}
